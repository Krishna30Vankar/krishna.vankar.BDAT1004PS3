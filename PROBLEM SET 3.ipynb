{
 "cells": [
  {
   "cell_type": "markdown",
   "id": "7baf648c",
   "metadata": {},
   "source": [
    "# PROBLEM SET 3"
   ]
  },
  {
   "cell_type": "markdown",
   "id": "130cc726",
   "metadata": {},
   "source": [
    "**QUESTION 1**"
   ]
  },
  {
   "cell_type": "code",
   "execution_count": 7,
   "id": "8bfcd293",
   "metadata": {},
   "outputs": [
    {
     "name": "stdout",
     "output_type": "stream",
     "text": [
      "occupation\n",
      "administrator    38.746835\n",
      "artist           31.392857\n",
      "doctor           43.571429\n",
      "educator         42.010526\n",
      "engineer         36.388060\n",
      "entertainment    29.222222\n",
      "executive        38.718750\n",
      "healthcare       41.562500\n",
      "homemaker        32.571429\n",
      "lawyer           36.750000\n",
      "librarian        40.000000\n",
      "marketing        37.615385\n",
      "none             26.555556\n",
      "other            34.523810\n",
      "programmer       33.121212\n",
      "retired          63.071429\n",
      "salesman         35.666667\n",
      "scientist        35.548387\n",
      "student          22.081633\n",
      "technician       33.148148\n",
      "writer           36.311111\n",
      "Name: age, dtype: float64\n"
     ]
    }
   ],
   "source": [
    "# IMPORT THE NECESSARY LIBRARIES\n",
    "import pandas as pd\n",
    "\n",
    "# IMPORT THE DATASET FROM GIVEN ADDRESS\n",
    "my_url = \"https://raw.githubusercontent.com/justmarkham/DAT8/master/data/u.user\"\n",
    "\n",
    "#ASSIGN IT TO A VARIABLE CALLED USERS\n",
    "my_users_data = pd.read_csv(my_url, sep= '|')\n",
    "\n",
    "# MEAN AGE PER OCCUPATION\n",
    "my_mean_age_by_occupation = my_users_data.groupby('occupation')['age'].mean()\n",
    "print(my_mean_age_by_occupation)\n",
    "\n"
   ]
  },
  {
   "cell_type": "code",
   "execution_count": 22,
   "id": "b12b55ba",
   "metadata": {},
   "outputs": [
    {
     "name": "stdout",
     "output_type": "stream",
     "text": [
      "doctor           100.000000\n",
      "engineer          97.014925\n",
      "technician        96.296296\n",
      "retired           92.857143\n",
      "programmer        90.909091\n",
      "executive         90.625000\n",
      "scientist         90.322581\n",
      "entertainment     88.888889\n",
      "lawyer            83.333333\n",
      "salesman          75.000000\n",
      "educator          72.631579\n",
      "student           69.387755\n",
      "other             65.714286\n",
      "marketing         61.538462\n",
      "writer            57.777778\n",
      "none              55.555556\n",
      "administrator     54.430380\n",
      "artist            53.571429\n",
      "librarian         43.137255\n",
      "healthcare        31.250000\n",
      "homemaker         14.285714\n",
      "dtype: float64\n"
     ]
    }
   ],
   "source": [
    "# the Male ratio per occupation and sort it from the most to the least\n",
    "def gender_to_numeric(x):\n",
    "    if x == 'M':\n",
    "        return 1\n",
    "    if x == 'F':\n",
    "        return 0\n",
    "\n",
    "my_users_data['gender_numeric'] = my_users_data['gender'].apply(gender_to_numeric)\n",
    "\n",
    "male_ratio = my_users_data.groupby('occupation')['gender_numeric'].sum() / my_users_data['occupation'].value_counts() * 100\n",
    "male_ratio.sort_values(ascending=False, inplace=True)\n",
    "print(male_ratio)\n",
    "\n",
    "         "
   ]
  },
  {
   "cell_type": "code",
   "execution_count": 25,
   "id": "08332b8b",
   "metadata": {},
   "outputs": [
    {
     "name": "stdout",
     "output_type": "stream",
     "text": [
      "               min  max\n",
      "occupation             \n",
      "administrator   21   70\n",
      "artist          19   48\n",
      "doctor          28   64\n",
      "educator        23   63\n",
      "engineer        22   70\n",
      "entertainment   15   50\n",
      "executive       22   69\n",
      "healthcare      22   62\n",
      "homemaker       20   50\n",
      "lawyer          21   53\n",
      "librarian       23   69\n",
      "marketing       24   55\n",
      "none            11   55\n",
      "other           13   64\n",
      "programmer      20   63\n",
      "retired         51   73\n",
      "salesman        18   66\n",
      "scientist       23   55\n",
      "student          7   42\n",
      "technician      21   55\n",
      "writer          18   60\n"
     ]
    }
   ],
   "source": [
    "#  For each occupation, calculate the minimum and maximum ages\n",
    "my_age_range_by_occupation = my_users_data.groupby('occupation')['age'].agg(['min', 'max'])\n",
    "print(my_age_range_by_occupation)\n"
   ]
  },
  {
   "cell_type": "code",
   "execution_count": 26,
   "id": "de92192e",
   "metadata": {},
   "outputs": [
    {
     "name": "stdout",
     "output_type": "stream",
     "text": [
      "occupation     gender\n",
      "administrator  F         40.638889\n",
      "               M         37.162791\n",
      "artist         F         30.307692\n",
      "               M         32.333333\n",
      "doctor         M         43.571429\n",
      "educator       F         39.115385\n",
      "               M         43.101449\n",
      "engineer       F         29.500000\n",
      "               M         36.600000\n",
      "entertainment  F         31.000000\n",
      "               M         29.000000\n",
      "executive      F         44.000000\n",
      "               M         38.172414\n",
      "healthcare     F         39.818182\n",
      "               M         45.400000\n",
      "homemaker      F         34.166667\n",
      "               M         23.000000\n",
      "lawyer         F         39.500000\n",
      "               M         36.200000\n",
      "librarian      F         40.000000\n",
      "               M         40.000000\n",
      "marketing      F         37.200000\n",
      "               M         37.875000\n",
      "none           F         36.500000\n",
      "               M         18.600000\n",
      "other          F         35.472222\n",
      "               M         34.028986\n",
      "programmer     F         32.166667\n",
      "               M         33.216667\n",
      "retired        F         70.000000\n",
      "               M         62.538462\n",
      "salesman       F         27.000000\n",
      "               M         38.555556\n",
      "scientist      F         28.333333\n",
      "               M         36.321429\n",
      "student        F         20.750000\n",
      "               M         22.669118\n",
      "technician     F         38.000000\n",
      "               M         32.961538\n",
      "writer         F         37.631579\n",
      "               M         35.346154\n",
      "Name: age, dtype: float64\n"
     ]
    }
   ],
   "source": [
    "# For each combination of occupation and sex, calculate the mean age\n",
    "my_mean_age_by_occupation_gender = my_users_data.groupby(['occupation', 'gender'])['age'].mean()\n",
    "print(my_mean_age_by_occupation_gender)\n"
   ]
  },
  {
   "cell_type": "code",
   "execution_count": 34,
   "id": "ae73e1b9",
   "metadata": {},
   "outputs": [
    {
     "name": "stdout",
     "output_type": "stream",
     "text": [
      "occupation     gender\n",
      "administrator  F          45.569620\n",
      "               M          54.430380\n",
      "artist         F          46.428571\n",
      "               M          53.571429\n",
      "doctor         M         100.000000\n",
      "educator       F          27.368421\n",
      "               M          72.631579\n",
      "engineer       F           2.985075\n",
      "               M          97.014925\n",
      "entertainment  F          11.111111\n",
      "               M          88.888889\n",
      "executive      F           9.375000\n",
      "               M          90.625000\n",
      "healthcare     F          68.750000\n",
      "               M          31.250000\n",
      "homemaker      F          85.714286\n",
      "               M          14.285714\n",
      "lawyer         F          16.666667\n",
      "               M          83.333333\n",
      "librarian      F          56.862745\n",
      "               M          43.137255\n",
      "marketing      F          38.461538\n",
      "               M          61.538462\n",
      "none           F          44.444444\n",
      "               M          55.555556\n",
      "other          F          34.285714\n",
      "               M          65.714286\n",
      "programmer     F           9.090909\n",
      "               M          90.909091\n",
      "retired        F           7.142857\n",
      "               M          92.857143\n",
      "salesman       F          25.000000\n",
      "               M          75.000000\n",
      "scientist      F           9.677419\n",
      "               M          90.322581\n",
      "student        F          30.612245\n",
      "               M          69.387755\n",
      "technician     F           3.703704\n",
      "               M          96.296296\n",
      "writer         F          42.222222\n",
      "               M          57.777778\n",
      "Name: gender, dtype: float64\n"
     ]
    }
   ],
   "source": [
    "#  For each occupation present the percentage of women and men\n",
    "gender_per_by_occupation = my_users_data.groupby(['occupation', 'gender'])['gender'].count() / my_users_data.groupby('occupation')['gender'].count() * 100\n",
    "print(gender_per_by_occupation)"
   ]
  },
  {
   "cell_type": "markdown",
   "id": "39901cfc",
   "metadata": {},
   "source": [
    "**QUESTION 2**"
   ]
  },
  {
   "cell_type": "code",
   "execution_count": 58,
   "id": "77ea765e",
   "metadata": {},
   "outputs": [
    {
     "name": "stdout",
     "output_type": "stream",
     "text": [
      "Total number of teams participated in the euro12 is: 16\n"
     ]
    }
   ],
   "source": [
    "# EURO TEAMS\n",
    "#  Import the necessary libraries\n",
    "import pandas as pd\n",
    "\n",
    "# Import the dataset from this address\n",
    "url = \"https://raw.githubusercontent.com/guipsamora/pandas_exercises/master/02_Filtering_%26_Sorting/Euro12/Euro_2012_stats_TEAM.csv\"\n",
    "\n",
    "# Assign it to a variable called euro12\n",
    "euro12 = pd.read_csv(url)\n",
    "\n",
    "#Select only the Goal column\n",
    "goal = euro12[\"Goals\"]\n",
    "\n",
    "#How many team participated in the Euro2012?\n",
    "number_of_teams = euro12[\"Team\"].nunique()\n",
    "print(\"Total number of teams participated in the euro12 is:\", number_of_teams)\n",
    "\n",
    "\n"
   ]
  },
  {
   "cell_type": "code",
   "execution_count": 59,
   "id": "01ddf152",
   "metadata": {},
   "outputs": [
    {
     "name": "stdout",
     "output_type": "stream",
     "text": [
      "Total number of columns in dataset is: 35\n"
     ]
    }
   ],
   "source": [
    "#  What is the number of columns in the dataset?\n",
    "number_of_columns = euro12.shape[1]\n",
    "print(\"Total number of columns in dataset is:\", number_of_columns)\n"
   ]
  },
  {
   "cell_type": "code",
   "execution_count": 60,
   "id": "f235940f",
   "metadata": {},
   "outputs": [
    {
     "name": "stdout",
     "output_type": "stream",
     "text": [
      "The mean yellow cards given per team is: 7.4375\n"
     ]
    }
   ],
   "source": [
    "# View only the columns Team, Yellow Cards and Red Cards and assign them \n",
    "#to a dataframe called discipline\n",
    "discipline = euro12[[\"Team\", \"Yellow Cards\", \"Red Cards\"]]\n",
    "\n",
    "# Sort the teams by Red Cards, then to Yellow Cards\n",
    "discipline = discipline.sort_values([\"Red Cards\", \"Yellow Cards\"])\n",
    "\n",
    "# Calculate the mean Yellow Cards given per Team\n",
    "calculate_mean_yellow_cards = discipline[\"Yellow Cards\"].mean()\n",
    "print(\"The mean yellow cards given per team is:\", calculate_mean_yellow_cards)\n",
    "\n",
    "\n"
   ]
  },
  {
   "cell_type": "code",
   "execution_count": 62,
   "id": "aef5bb65",
   "metadata": {},
   "outputs": [
    {
     "name": "stdout",
     "output_type": "stream",
     "text": [
      "Teams that scored more than 6 goals: ['Germany', 'Spain']\n",
      "Teams start with G are: ['Germany', 'Greece']\n"
     ]
    }
   ],
   "source": [
    "# Filter teams that scored more than 6 goalsStep 11. Select the teams that start \n",
    "#with G\n",
    "\n",
    "more_than_6_goals = euro12[euro12[\"Goals\"] > 6]\n",
    "print(\"Teams that scored more than 6 goals:\", more_than_6_goals[\"Team\"].tolist())\n",
    "\n",
    "teams_start_with_G = euro12[euro12[\"Team\"].str.startswith(\"G\")]\n",
    "print(\"Teams start with G are:\", teams_start_with_G[\"Team\"].tolist())\n",
    "\n"
   ]
  },
  {
   "cell_type": "code",
   "execution_count": 63,
   "id": "d43c6805",
   "metadata": {},
   "outputs": [
    {
     "name": "stdout",
     "output_type": "stream",
     "text": [
      "The first seven columns are:\n",
      "                    Team  Goals  Shots on target  Shots off target  \\\n",
      "0               Croatia      4               13                12   \n",
      "1        Czech Republic      4               13                18   \n",
      "2               Denmark      4               10                10   \n",
      "3               England      5               11                18   \n",
      "4                France      3               22                24   \n",
      "5               Germany     10               32                32   \n",
      "6                Greece      5                8                18   \n",
      "7                 Italy      6               34                45   \n",
      "8           Netherlands      2               12                36   \n",
      "9                Poland      2               15                23   \n",
      "10             Portugal      6               22                42   \n",
      "11  Republic of Ireland      1                7                12   \n",
      "12               Russia      5                9                31   \n",
      "13                Spain     12               42                33   \n",
      "14               Sweden      5               17                19   \n",
      "15              Ukraine      2                7                26   \n",
      "\n",
      "   Shooting Accuracy % Goals-to-shots  Total shots (inc. Blocked)  \n",
      "0              51.9%            16.0%                          32  \n",
      "1              41.9%            12.9%                          39  \n",
      "2              50.0%            20.0%                          27  \n",
      "3              50.0%            17.2%                          40  \n",
      "4              37.9%             6.5%                          65  \n",
      "5              47.8%            15.6%                          80  \n",
      "6              30.7%            19.2%                          32  \n",
      "7              43.0%             7.5%                         110  \n",
      "8              25.0%             4.1%                          60  \n",
      "9              39.4%             5.2%                          48  \n",
      "10             34.3%             9.3%                          82  \n",
      "11             36.8%             5.2%                          28  \n",
      "12             22.5%            12.5%                          59  \n",
      "13             55.9%            16.0%                         100  \n",
      "14             47.2%            13.8%                          39  \n",
      "15             21.2%             6.0%                          38  \n"
     ]
    }
   ],
   "source": [
    "# Select the first 7 columns\n",
    "first_7_columns = euro12.iloc[:, :7]\n",
    "print(\"The first seven columns are:\\n\",first_7_columns)\n",
    "\n"
   ]
  },
  {
   "cell_type": "code",
   "execution_count": 65,
   "id": "6cb2599e",
   "metadata": {},
   "outputs": [
    {
     "name": "stdout",
     "output_type": "stream",
     "text": [
      "All columns except the last three are:\n",
      "                    Team  Goals  Shots on target  Shots off target  \\\n",
      "0               Croatia      4               13                12   \n",
      "1        Czech Republic      4               13                18   \n",
      "2               Denmark      4               10                10   \n",
      "3               England      5               11                18   \n",
      "4                France      3               22                24   \n",
      "5               Germany     10               32                32   \n",
      "6                Greece      5                8                18   \n",
      "7                 Italy      6               34                45   \n",
      "8           Netherlands      2               12                36   \n",
      "9                Poland      2               15                23   \n",
      "10             Portugal      6               22                42   \n",
      "11  Republic of Ireland      1                7                12   \n",
      "12               Russia      5                9                31   \n",
      "13                Spain     12               42                33   \n",
      "14               Sweden      5               17                19   \n",
      "15              Ukraine      2                7                26   \n",
      "\n",
      "   Shooting Accuracy % Goals-to-shots  Total shots (inc. Blocked)  \\\n",
      "0              51.9%            16.0%                          32   \n",
      "1              41.9%            12.9%                          39   \n",
      "2              50.0%            20.0%                          27   \n",
      "3              50.0%            17.2%                          40   \n",
      "4              37.9%             6.5%                          65   \n",
      "5              47.8%            15.6%                          80   \n",
      "6              30.7%            19.2%                          32   \n",
      "7              43.0%             7.5%                         110   \n",
      "8              25.0%             4.1%                          60   \n",
      "9              39.4%             5.2%                          48   \n",
      "10             34.3%             9.3%                          82   \n",
      "11             36.8%             5.2%                          28   \n",
      "12             22.5%            12.5%                          59   \n",
      "13             55.9%            16.0%                         100   \n",
      "14             47.2%            13.8%                          39   \n",
      "15             21.2%             6.0%                          38   \n",
      "\n",
      "    Hit Woodwork  Penalty goals  Penalties not scored  ...  Clean Sheets  \\\n",
      "0              0              0                     0  ...             0   \n",
      "1              0              0                     0  ...             1   \n",
      "2              1              0                     0  ...             1   \n",
      "3              0              0                     0  ...             2   \n",
      "4              1              0                     0  ...             1   \n",
      "5              2              1                     0  ...             1   \n",
      "6              1              1                     1  ...             1   \n",
      "7              2              0                     0  ...             2   \n",
      "8              2              0                     0  ...             0   \n",
      "9              0              0                     0  ...             0   \n",
      "10             6              0                     0  ...             2   \n",
      "11             0              0                     0  ...             0   \n",
      "12             2              0                     0  ...             0   \n",
      "13             0              1                     0  ...             5   \n",
      "14             3              0                     0  ...             1   \n",
      "15             0              0                     0  ...             0   \n",
      "\n",
      "    Blocks  Goals conceded Saves made  Saves-to-shots ratio  Fouls Won  \\\n",
      "0       10               3         13                 81.3%         41   \n",
      "1       10               6          9                 60.1%         53   \n",
      "2       10               5         10                 66.7%         25   \n",
      "3       29               3         22                 88.1%         43   \n",
      "4        7               5          6                 54.6%         36   \n",
      "5       11               6         10                 62.6%         63   \n",
      "6       23               7         13                 65.1%         67   \n",
      "7       18               7         20                 74.1%        101   \n",
      "8        9               5         12                 70.6%         35   \n",
      "9        8               3          6                 66.7%         48   \n",
      "10      11               4         10                 71.5%         73   \n",
      "11      23               9         17                 65.4%         43   \n",
      "12       8               3         10                 77.0%         34   \n",
      "13       8               1         15                 93.8%        102   \n",
      "14      12               5          8                 61.6%         35   \n",
      "15       4               4         13                 76.5%         48   \n",
      "\n",
      "    Fouls Conceded  Offsides  Yellow Cards  Red Cards  \n",
      "0               62         2             9          0  \n",
      "1               73         8             7          0  \n",
      "2               38         8             4          0  \n",
      "3               45         6             5          0  \n",
      "4               51         5             6          0  \n",
      "5               49        12             4          0  \n",
      "6               48        12             9          1  \n",
      "7               89        16            16          0  \n",
      "8               30         3             5          0  \n",
      "9               56         3             7          1  \n",
      "10              90        10            12          0  \n",
      "11              51        11             6          1  \n",
      "12              43         4             6          0  \n",
      "13              83        19            11          0  \n",
      "14              51         7             7          0  \n",
      "15              31         4             5          0  \n",
      "\n",
      "[16 rows x 32 columns]\n"
     ]
    }
   ],
   "source": [
    "# Select all columns except the last 3\n",
    "all_columns_except_the_last_3 = euro12.iloc[:, :-3]\n",
    "print(\"All columns except the last three are:\\n\", all_columns_except_the_last_3)\n"
   ]
  },
  {
   "cell_type": "code",
   "execution_count": 66,
   "id": "9bce9690",
   "metadata": {},
   "outputs": [
    {
     "name": "stdout",
     "output_type": "stream",
     "text": [
      "The shooting accuracy from England, Italy and Russia is:\n",
      "        Team Shooting Accuracy\n",
      "3   England             50.0%\n",
      "7     Italy             43.0%\n",
      "12   Russia             22.5%\n"
     ]
    }
   ],
   "source": [
    "#Present only the Shooting Accuracy from England, Italy and Russia\n",
    "shootacc_eng_itly_russ = euro12[euro12[\"Team\"].isin([\"England\", \"Italy\", \"Russia\"])]\n",
    "cols = shootacc_eng_itly_russ[[\"Team\", \"Shooting Accuracy\"]]\n",
    "print(\"The shooting accuracy from England, Italy and Russia is:\\n\", cols)\n"
   ]
  },
  {
   "cell_type": "markdown",
   "id": "c29faddd",
   "metadata": {},
   "source": [
    "**QUESTION 3**"
   ]
  },
  {
   "cell_type": "code",
   "execution_count": 72,
   "id": "8551a25f",
   "metadata": {},
   "outputs": [
    {
     "name": "stdout",
     "output_type": "stream",
     "text": [
      "299\n"
     ]
    }
   ],
   "source": [
    "# HOUSING\n",
    "# Import the necessary libraries\n",
    "import numpy as np\n",
    "import pandas as pd\n",
    "\n",
    "# Step 2. Create 3 differents Series, each of length 100, as follows:\n",
    "#• The first a random number from 1 to 4\n",
    "#• The second a random number from 1 to 3\n",
    "#• The third a random number from 10,000 to 30,000\n",
    "\n",
    "series_1 = pd.Series(np.random.randint(1, 5, size=100))\n",
    "series_2 = pd.Series(np.random.randint(1, 4, size=100))\n",
    "series_3 = pd.Series(np.random.randint(10000, 30001,size=100))\n",
    "\n",
    "# Step 3. Create a DataFrame by joinning the Series by column\n",
    "\n",
    "dataframe = pd.concat([series_1, series_2, series_3], axis=1)\n",
    "\n",
    "#Step 4. Change the name of the columns to bedrs, bathrs, price_sqr_meter\n",
    "\n",
    "dataframe.columns = ['bedrs', 'bathrs', 'price_sqr_meter']\n",
    "\n",
    "#Step 5. Create a one column DataFrame with the values of the 3 Series and assign it \n",
    "#to 'bigcolumn'\n",
    "\n",
    "big_column = pd.concat([series_1, series_2, series_3], axis=0, ignore_index=True)\n",
    "big_column = pd.DataFrame(big_column)\n",
    "\n",
    "#Step 6. Ops it seems it is going only until index 99. Is it true?\n",
    "print(big_column.index.max())\n",
    "\n"
   ]
  },
  {
   "cell_type": "code",
   "execution_count": 75,
   "id": "bdf0d9c3",
   "metadata": {},
   "outputs": [
    {
     "name": "stdout",
     "output_type": "stream",
     "text": [
      "     bedrs  bathrs  price_sqr_meter\n",
      "0      1.0     2.0          10044.0\n",
      "1      1.0     2.0          26864.0\n",
      "2      1.0     2.0          29380.0\n",
      "3      1.0     2.0          17702.0\n",
      "4      1.0     2.0          24647.0\n",
      "..     ...     ...              ...\n",
      "295    NaN     NaN              NaN\n",
      "296    NaN     NaN              NaN\n",
      "297    NaN     NaN              NaN\n",
      "298    NaN     NaN              NaN\n",
      "299    NaN     NaN              NaN\n",
      "\n",
      "[300 rows x 3 columns]\n"
     ]
    }
   ],
   "source": [
    "# Reindex the DataFrame so it goes from 0 to 299\n",
    "dataframe = dataframe.reindex(range(300))\n",
    "print(dataframe)\n",
    "\n"
   ]
  },
  {
   "cell_type": "markdown",
   "id": "93a4c797",
   "metadata": {},
   "source": [
    "**QUESTION 4**"
   ]
  },
  {
   "cell_type": "code",
   "execution_count": null,
   "id": "2e8dfcd3",
   "metadata": {},
   "outputs": [],
   "source": [
    "# WIND STATISTICS\n",
    "# Step 1. Import the necessary libraries\n",
    "\n",
    "\n",
    "\n",
    "\n",
    "#Step 2. Import the dataset from the attached file wind.txt\n",
    "\n",
    "\n",
    "\n",
    "#Step 3. Assign it to a variable called data and replace the first 3 columns by a proper \n",
    "#datetime index.\n",
    "\n",
    "\n",
    "\n",
    "#Step 4. Year 2061? Do we really have data from this year? Create a function to fix it \n",
    "#and apply it.\n",
    "\n",
    "\n",
    "\n",
    "\n",
    "\n",
    "\n",
    "\n",
    "#Step 5. Set the right dates as the index. Pay attention at the data type, it should be \n",
    "#datetime64[ns].\n",
    "\n",
    "\n",
    "\n",
    "\n",
    "\n",
    "#Step 6. Compute how many values are missing for each location over the entire \n",
    "#record.They should be ignored in all calculations below\n",
    "\n",
    "\n",
    "\n",
    "\n",
    "\n",
    "#Step 7. Compute how many non-missing values there are in total.\n",
    "\n",
    "\n",
    "\n",
    "\n",
    "\n",
    "\n",
    "\n",
    "#Step 8. Calculate the mean windspeeds of the windspeeds over all the locations and \n",
    "#all the times.\n",
    "#A single number for the entire dataset.\n",
    "\n",
    "\n",
    "\n",
    "\n",
    "\n",
    "\n",
    "\n",
    "#Step 9. Create a DataFrame called loc_stats and calculate the min, max and mean \n",
    "#windspeeds and standard deviations of the windspeeds at each location over all the \n",
    "#days\n",
    "#A different set of numbers for each location.\n",
    "\n",
    "\n",
    "\n",
    "\n",
    "\n",
    "#Step 10. Create a DataFrame called day_stats and calculate the min, max and mean \n",
    "#windspeed and standard deviations of the windspeeds across all the locations at each \n",
    "#day.\n",
    "#A different set of numbers for each day.\n",
    "\n",
    "\n",
    "\n",
    "\n",
    "\n",
    "\n",
    "\n",
    "#Step 11. Find the average windspeed in January for each location.\n",
    "#Treat January 1961 and January 1962 both as January.\n",
    "\n",
    "\n",
    "\n",
    "\n",
    "\n",
    "\n",
    "\n",
    "\n",
    "#Step 12. Downsample the record to a yearly frequency for each location.\n",
    "\n",
    "\n",
    "\n",
    "\n",
    "\n",
    "\n",
    "#Step 13. Downsample the record to a monthly frequency for each location.\n",
    "\n",
    "\n",
    "\n",
    "\n",
    "\n",
    "\n",
    "#Step 14. Downsample the record to a weekly frequency for each location.\n",
    "\n",
    "\n",
    "\n",
    "\n",
    "\n",
    "\n",
    "\n",
    "#Step 15. Calculate the min, max and mean windspeeds and standard deviations of the \n",
    "#windspeeds across all locations for each week (assume that the first week starts on \n",
    "#January 2 1961) for the first 52 weeks\n",
    "\n",
    "\n",
    "\n",
    "\n",
    "\n",
    "\n"
   ]
  },
  {
   "cell_type": "markdown",
   "id": "5bc7f9e4",
   "metadata": {},
   "source": [
    "**QUESTION 5**"
   ]
  },
  {
   "cell_type": "code",
   "execution_count": 97,
   "id": "0647e7d1",
   "metadata": {},
   "outputs": [
    {
     "name": "stdout",
     "output_type": "stream",
     "text": [
      "   order_id  quantity                              item_name  \\\n",
      "0         1         1           Chips and Fresh Tomato Salsa   \n",
      "1         1         1                                   Izze   \n",
      "2         1         1                       Nantucket Nectar   \n",
      "3         1         1  Chips and Tomatillo-Green Chili Salsa   \n",
      "4         2         2                           Chicken Bowl   \n",
      "5         3         1                           Chicken Bowl   \n",
      "6         3         1                          Side of Chips   \n",
      "7         4         1                          Steak Burrito   \n",
      "8         4         1                       Steak Soft Tacos   \n",
      "9         5         1                          Steak Burrito   \n",
      "\n",
      "                                  choice_description item_price  \n",
      "0                                                NaN     $2.39   \n",
      "1                                       [Clementine]     $3.39   \n",
      "2                                            [Apple]     $3.39   \n",
      "3                                                NaN     $2.39   \n",
      "4  [Tomatillo-Red Chili Salsa (Hot), [Black Beans...    $16.98   \n",
      "5  [Fresh Tomato Salsa (Mild), [Rice, Cheese, Sou...    $10.98   \n",
      "6                                                NaN     $1.69   \n",
      "7  [Tomatillo Red Chili Salsa, [Fajita Vegetables...    $11.75   \n",
      "8  [Tomatillo Green Chili Salsa, [Pinto Beans, Ch...     $9.25   \n",
      "9  [Fresh Tomato Salsa, [Rice, Black Beans, Pinto...     $9.25   \n",
      "4622\n",
      "5\n",
      "Index(['order_id', 'quantity', 'item_name', 'choice_description',\n",
      "       'item_price'],\n",
      "      dtype='object')\n",
      "RangeIndex(start=0, stop=4622, step=1)\n",
      "Chicken Bowl\n",
      "761\n",
      "[Diet Coke]\n",
      "4972\n",
      "float64\n",
      "39237.02\n",
      "1834\n",
      "21 2\n",
      "50\n"
     ]
    }
   ],
   "source": [
    "# Step 1. Import the necessary libraries\n",
    "import pandas as pd\n",
    "\n",
    "\n",
    "\n",
    "\n",
    "#Step 2. Import the dataset from this address.\n",
    "kri_url = \"https://raw.githubusercontent.com/justmarkham/DAT8/master/data/chipotle.tsv\"\n",
    "\n",
    "#Step 3. Assign it to a variable called chipo.\n",
    "chipo = pd.read_csv(kri_url, delimiter='\\t')\n",
    "\n",
    "\n",
    "#Step 4. See the first 10 entries\n",
    "print(chipo.head(10))\n",
    "\n",
    "#Step 5. What is the number of observations in the dataset?\n",
    "print(len(chipo))\n",
    "\n",
    "\n",
    "#Step 6. What is the number of columns in the dataset?\n",
    "print(len(chipo.columns))\n",
    "\n",
    "\n",
    "#Step 7. Print the name of all the columns.\n",
    "print(chipo.columns)\n",
    "\n",
    "\n",
    "#Step 8. How is the dataset indexed?\n",
    "print(chipo.index)\n",
    "\n",
    "\n",
    "#Step 9. Which was the most-ordered item?\n",
    "ordered_item = chipo.groupby('item_name').sum().sort_values('quantity', ascending=False).head(1).index[0]\n",
    "print(ordered_item)\n",
    "\n",
    "\n",
    "#Step 10. For the most-ordered item, how many items were ordered?\n",
    "itemsquantity_ordered = chipo.groupby('item_name').sum().sort_values('quantity', ascending=False).head(1)['quantity'][0]\n",
    "print(itemsquantity_ordered)\n",
    "\n",
    "\n",
    "\n",
    "#Step 11. What was the most ordered item in the choice_description column?\n",
    "itemschoice_ordered = chipo.groupby('choice_description').sum().sort_values('quantity', ascending=False).head(1).index[0]\n",
    "print(itemschoice_ordered)\n",
    "\n",
    "\n",
    "#Step 12. How many items were orderd in total?\n",
    "totalitems_orderd = chipo['quantity'].sum()\n",
    "print(totalitems_orderd)\n",
    "\n",
    "\n",
    "#Step 13.\n",
    "#• Turn the item price into a float\n",
    "#• Check the item price type\n",
    "#• Create a lambda function and change the type of item price\n",
    "#• Check the item price type\n",
    "chipo['item_price'] =  chipo['item_price'].apply(lambda x: float(x[1:-1]))\n",
    "print(chipo['item_price'].dtype)\n",
    "\n",
    "\n",
    "#Step 14. How much was the revenue for the period in the dataset?\n",
    "revenue = (chipo['quantity'] * chipo['item_price']).sum()\n",
    "print(revenue)\n",
    "\n",
    "\n",
    "#Step 15. How many orders were made in the period?\n",
    "numbers_of_orderd_done = chipo['order_id'].nunique()\n",
    "print(numbers_of_orderd_done)\n",
    "\n",
    "\n",
    "\n",
    "#Step 16. What is the average revenue amount per order?\n",
    "average_revenue = revenue / orders\n",
    "print(round(average_revenue), 2)\n",
    "\n",
    "\n",
    "\n",
    "#Step 17. How many different items are sold?\n",
    "print(chipo['item_name'].nunique())\n",
    "\n"
   ]
  },
  {
   "cell_type": "markdown",
   "id": "c881fedf",
   "metadata": {},
   "source": [
    "**QUESTION 6**"
   ]
  },
  {
   "cell_type": "code",
   "execution_count": 113,
   "id": "1fd0bb40",
   "metadata": {
    "scrolled": true
   },
   "outputs": [
    {
     "data": {
      "text/html": [
       "<div>\n",
       "<style scoped>\n",
       "    .dataframe tbody tr th:only-of-type {\n",
       "        vertical-align: middle;\n",
       "    }\n",
       "\n",
       "    .dataframe tbody tr th {\n",
       "        vertical-align: top;\n",
       "    }\n",
       "\n",
       "    .dataframe thead th {\n",
       "        text-align: right;\n",
       "    }\n",
       "</style>\n",
       "<table border=\"1\" class=\"dataframe\">\n",
       "  <thead>\n",
       "    <tr style=\"text-align: right;\">\n",
       "      <th></th>\n",
       "      <th>Year</th>\n",
       "      <th>Marriages</th>\n",
       "      <th>Divorces</th>\n",
       "      <th>Population</th>\n",
       "      <th>Marriages_per_1000</th>\n",
       "      <th>Divorces_per_1000</th>\n",
       "    </tr>\n",
       "  </thead>\n",
       "  <tbody>\n",
       "    <tr>\n",
       "      <th>0</th>\n",
       "      <td>1867</td>\n",
       "      <td>357000.0</td>\n",
       "      <td>10000.0</td>\n",
       "      <td>36970000</td>\n",
       "      <td>9.7</td>\n",
       "      <td>0.3</td>\n",
       "    </tr>\n",
       "    <tr>\n",
       "      <th>1</th>\n",
       "      <td>1868</td>\n",
       "      <td>345000.0</td>\n",
       "      <td>10000.0</td>\n",
       "      <td>37885000</td>\n",
       "      <td>9.1</td>\n",
       "      <td>0.3</td>\n",
       "    </tr>\n",
       "    <tr>\n",
       "      <th>2</th>\n",
       "      <td>1869</td>\n",
       "      <td>348000.0</td>\n",
       "      <td>11000.0</td>\n",
       "      <td>38870000</td>\n",
       "      <td>9.0</td>\n",
       "      <td>0.3</td>\n",
       "    </tr>\n",
       "    <tr>\n",
       "      <th>3</th>\n",
       "      <td>1870</td>\n",
       "      <td>352000.0</td>\n",
       "      <td>11000.0</td>\n",
       "      <td>39905000</td>\n",
       "      <td>8.8</td>\n",
       "      <td>0.3</td>\n",
       "    </tr>\n",
       "    <tr>\n",
       "      <th>4</th>\n",
       "      <td>1871</td>\n",
       "      <td>359000.0</td>\n",
       "      <td>12000.0</td>\n",
       "      <td>41010000</td>\n",
       "      <td>8.8</td>\n",
       "      <td>0.3</td>\n",
       "    </tr>\n",
       "  </tbody>\n",
       "</table>\n",
       "</div>"
      ],
      "text/plain": [
       "   Year  Marriages  Divorces  Population  Marriages_per_1000  \\\n",
       "0  1867   357000.0   10000.0    36970000                 9.7   \n",
       "1  1868   345000.0   10000.0    37885000                 9.1   \n",
       "2  1869   348000.0   11000.0    38870000                 9.0   \n",
       "3  1870   352000.0   11000.0    39905000                 8.8   \n",
       "4  1871   359000.0   12000.0    41010000                 8.8   \n",
       "\n",
       "   Divorces_per_1000  \n",
       "0                0.3  \n",
       "1                0.3  \n",
       "2                0.3  \n",
       "3                0.3  \n",
       "4                0.3  "
      ]
     },
     "execution_count": 113,
     "metadata": {},
     "output_type": "execute_result"
    }
   ],
   "source": [
    "import pandas as pd\n",
    "\n",
    "file_path = \"C:\\\\Users\\\\krish\\\\OneDrive\\\\Desktt 3\\\\us-marriages-divorces-1867-2014 (1).csv\"\n",
    "\n",
    "df = pd.read_csv(file_path)\n",
    "\n",
    "df.head()\n"
   ]
  },
  {
   "cell_type": "code",
   "execution_count": 120,
   "id": "48eea820",
   "metadata": {},
   "outputs": [
    {
     "data": {
      "image/png": "[encoded data removed]",
      "text/plain": [
       "<Figure size 640x480 with 1 Axes>"
      ]
     },
     "metadata": {},
     "output_type": "display_data"
    }
   ],
   "source": [
    "import pandas as pd\n",
    "import matplotlib.pyplot as plt\n",
    "\n",
    "file_path = \"C:\\\\Users\\\\krish\\\\OneDrive\\\\Desktop\\\\python problem set 3\\\\us-marriages-divorces-1867-2014 (1).csv\"\n",
    "df = pd.read_csv(file_path)\n",
    "\n",
    "\n",
    "plt.plot(df.Year, df.Marriages_per_1000, label='Marriages')\n",
    "plt.plot(df.Year, df.Divorces_per_1000, label='Divorces')\n",
    "\n",
    "plt.xlabel('Year')\n",
    "plt.ylabel('Per capita')\n",
    "plt.title('Marriages and Divorces per capita in the U.S.')\n",
    "plt.legend()\n",
    "\n",
    "plt.show()"
   ]
  },
  {
   "cell_type": "markdown",
   "id": "8f9afed1",
   "metadata": {},
   "source": [
    "**QUESTION 7** "
   ]
  },
  {
   "cell_type": "code",
   "execution_count": 138,
   "id": "56723f6c",
   "metadata": {
    "scrolled": false
   },
   "outputs": [
    {
     "data": {
      "image/png": "[encoded data removed]",
      "text/plain": [
       "<Figure size 800x600 with 1 Axes>"
      ]
     },
     "metadata": {},
     "output_type": "display_data"
    }
   ],
   "source": [
    "import pandas as pd\n",
    "import matplotlib.pyplot as plt\n",
    "\n",
    "df = pd.read_csv(\"C:\\\\Users\\\\krish\\\\OneDrive\\\\Desktop\\\\python problem set 3\\\\us-marriages-divorces-1867-2014 (1).csv\")\n",
    "\n",
    "\n",
    "years = [1900, 1950, 2000]\n",
    "df = df[df['Year'].isin(years)]\n",
    "\n",
    "df['Marriages Per Capita'] = df['Marriages'] / df['Population']\n",
    "df['Divorces Per Capita'] = df['Divorces'] / df['Population']\n",
    "\n",
    "\n",
    "ax = df.plot(x='Year', y=['Marriages Per Capita', 'Divorces Per Capita'], kind='bar', figsize=(8,6), color=['pink', 'red'])\n",
    "\n",
    "\n",
    "\n",
    "ax.set_title('Marriages and Divorces per Capita in the U.S.')\n",
    "ax.set_xlabel('Year')\n",
    "ax.set_ylabel('Number per capita')\n",
    "\n",
    "ax.legend(['Marriages', 'Divorces'])\n",
    "\n",
    "plt.show()"
   ]
  },
  {
   "cell_type": "markdown",
   "id": "2a082447",
   "metadata": {},
   "source": [
    "**QUESTION 8**"
   ]
  },
  {
   "cell_type": "code",
   "execution_count": 150,
   "id": "836126d0",
   "metadata": {},
   "outputs": [
    {
     "ename": "NameError",
     "evalue": "name 'figsize' is not defined",
     "output_type": "error",
     "traceback": [
      "\u001b[1;31m---------------------------------------------------------------------------\u001b[0m",
      "\u001b[1;31mNameError\u001b[0m                                 Traceback (most recent call last)",
      "\u001b[1;32m~\\AppData\\Local\\Temp\\ipykernel_9512\\2537714266.py\u001b[0m in \u001b[0;36m<module>\u001b[1;34m\u001b[0m\n\u001b[0;32m      7\u001b[0m \u001b[0mdf\u001b[0m \u001b[1;33m=\u001b[0m \u001b[0mdf\u001b[0m\u001b[1;33m.\u001b[0m\u001b[0msort_values\u001b[0m\u001b[1;33m(\u001b[0m\u001b[1;34m\"Count\"\u001b[0m\u001b[1;33m,\u001b[0m \u001b[0mascending\u001b[0m\u001b[1;33m=\u001b[0m\u001b[1;32mFalse\u001b[0m\u001b[1;33m)\u001b[0m\u001b[1;33m\u001b[0m\u001b[1;33m\u001b[0m\u001b[0m\n\u001b[0;32m      8\u001b[0m \u001b[1;33m\u001b[0m\u001b[0m\n\u001b[1;32m----> 9\u001b[1;33m \u001b[0mfig\u001b[0m\u001b[1;33m,\u001b[0m \u001b[0max\u001b[0m \u001b[1;33m=\u001b[0m \u001b[0mplt\u001b[0m\u001b[1;33m.\u001b[0m\u001b[0msubplots\u001b[0m\u001b[1;33m(\u001b[0m\u001b[0mfigsize\u001b[0m\u001b[1;33m(\u001b[0m\u001b[1;36m8\u001b[0m\u001b[1;33m,\u001b[0m\u001b[1;36m6\u001b[0m\u001b[1;33m)\u001b[0m\u001b[1;33m)\u001b[0m\u001b[1;33m\u001b[0m\u001b[1;33m\u001b[0m\u001b[0m\n\u001b[0m\u001b[0;32m     10\u001b[0m \u001b[0max\u001b[0m\u001b[1;33m.\u001b[0m\u001b[0mbarh\u001b[0m\u001b[1;33m(\u001b[0m\u001b[0mdf\u001b[0m\u001b[1;33m[\u001b[0m\u001b[1;34m\"Actor\"\u001b[0m\u001b[1;33m]\u001b[0m\u001b[1;33m,\u001b[0m \u001b[0mdf\u001b[0m\u001b[1;33m[\u001b[0m\u001b[1;34m\"Count\"\u001b[0m\u001b[1;33m]\u001b[0m\u001b[1;33m,\u001b[0m \u001b[0mcolor\u001b[0m\u001b[1;33m=\u001b[0m\u001b[1;34m\"red\"\u001b[0m\u001b[1;33m)\u001b[0m\u001b[1;33m\u001b[0m\u001b[1;33m\u001b[0m\u001b[0m\n\u001b[0;32m     11\u001b[0m \u001b[1;33m\u001b[0m\u001b[0m\n",
      "\u001b[1;31mNameError\u001b[0m: name 'figsize' is not defined"
     ]
    }
   ],
   "source": [
    "import pandas as pd\n",
    "import matplotlib.pyplot as plt\n",
    "\n",
    "\n",
    "df = pd.read_csv(\"C:\\\\Users\\\\krish\\\\OneDrive\\\\Desktop\\\\python problem set 3\\\\actor_kill_counts.csv\")\n",
    "\n",
    "df = df.sort_values(\"Count\", ascending=False)\n",
    "\n",
    "fig, ax = plt.subplots(figsize(8,6))\n",
    "ax.barh(df[\"Actor\"], df[\"Count\"], color=\"red\")\n",
    "\n",
    "ax.set_xlabel(\"Count\")\n",
    "ax.set_ylabel(\"Actor\")\n",
    "ax.set_title(\"Deadliest Actors in Hollywood\")\n",
    "\n",
    "\n",
    "for i, v in enumerate(df[\"Count\"]):\n",
    "    ax.text(v + 1, i , str(v), color=\"red\", fontweight=\"italic\")\n",
    "    \n",
    "    \n",
    "plt.show()    \n",
    "        "
   ]
  },
  {
   "cell_type": "code",
   "execution_count": null,
   "id": "dc858e54",
   "metadata": {},
   "outputs": [],
   "source": []
  },
  {
   "cell_type": "code",
   "execution_count": null,
   "id": "98bb3305",
   "metadata": {},
   "outputs": [],
   "source": []
  }
 ],
 "metadata": {
  "kernelspec": {
   "display_name": "Python 3 (ipykernel)",
   "language": "python",
   "name": "python3"
  },
  "language_info": {
   "codemirror_mode": {
    "name": "ipython",
    "version": 3
   },
   "file_extension": ".py",
   "mimetype": "text/x-python",
   "name": "python",
   "nbconvert_exporter": "python",
   "pygments_lexer": "ipython3",
   "version": "3.9.13"
  }
 },
 "nbformat": 4,
 "nbformat_minor": 5
}
